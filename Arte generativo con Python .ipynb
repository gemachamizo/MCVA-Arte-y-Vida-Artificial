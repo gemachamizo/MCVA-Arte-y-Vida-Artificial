{
 "cells": [
  {
   "cell_type": "code",
   "execution_count": 1,
   "id": "b0d5eae8",
   "metadata": {},
   "outputs": [],
   "source": [
    "## Importamos las librerías necesarias \n",
    "from PIL import Image, ImageDraw\n",
    "import numpy as np\n",
    "from numpy import random"
   ]
  },
  {
   "cell_type": "code",
   "execution_count": 2,
   "id": "9e94a625",
   "metadata": {},
   "outputs": [],
   "source": [
    "## Creamos una matriz en la que la misma columna se pinta del mismo color \n",
    "imagen_size = 1000\n",
    "arr = np.zeros([imagen_size, imagen_size, 3], dtype=np.uint8)\n",
    "\n",
    "for i in arr:\n",
    "    arr[::, ::random.randint(1, imagen_size)] = [random.randint(0, 255), random.randint(0, 255), random.randint(0, 255)]\n",
    "\n",
    "img = Image.fromarray(arr)\n",
    "dibujar_imagen = ImageDraw.Draw(img)\n",
    "img.show()"
   ]
  },
  {
   "cell_type": "code",
   "execution_count": 5,
   "id": "953accbf",
   "metadata": {},
   "outputs": [],
   "source": [
    "## Creamos una matriz en la que la misma fila se pinta del mismo color \n",
    "imagen_size = 1000\n",
    "arr6 = np.zeros([imagen_size, imagen_size, 3], dtype=np.uint8)\n",
    "\n",
    "for i in arr6:\n",
    "    arr6[::random.randint(1, imagen_size), ::] = [random.randint(0, 255), random.randint(0, 255), random.randint(0, 255)]\n",
    "\n",
    "img6 = Image.fromarray(arr6)\n",
    "dibujar_imagen = ImageDraw.Draw(img6)\n",
    "img6.show()"
   ]
  },
  {
   "cell_type": "code",
   "execution_count": 34,
   "id": "bba812e6",
   "metadata": {},
   "outputs": [],
   "source": [
    "## Hacemos que la imagen tenga tonos más azules, reduciendo los rangos de los colores rojo y verde\n",
    "arr2 = np.zeros([imagen_size, imagen_size, 3], dtype=np.uint8)\n",
    "\n",
    "for i in arr2:\n",
    "    arr2[::, ::random.randint(1, imagen_size)] = [random.randint(0, 80), random.randint(0, 100), random.randint(0, 255)]\n",
    "\n",
    "img2 = Image.fromarray(arr2)\n",
    "dibujar_imagen = ImageDraw.Draw(img2)\n",
    "img2.show()"
   ]
  },
  {
   "cell_type": "code",
   "execution_count": 18,
   "id": "2941f705",
   "metadata": {},
   "outputs": [],
   "source": [
    "## Todas las entradas de la matriz tienen colores aleatorios\n",
    "arr3 = np.zeros([imagen_size, imagen_size, 3], dtype=np.uint8)\n",
    "\n",
    "for i in arr3:\n",
    "    arr3[::random.randint(1, imagen_size), ::random.randint(1, imagen_size)] = [random.randint(0, 255), random.randint(0,255), random.randint(0, 255)]\n",
    "\n",
    "img3 = Image.fromarray(arr3)\n",
    "dibujar_imagen = ImageDraw.Draw(img3)\n",
    "img3.show()"
   ]
  },
  {
   "cell_type": "code",
   "execution_count": 36,
   "id": "6876531a",
   "metadata": {},
   "outputs": [],
   "source": [
    "## La obra de arte tiene dimensiones aleatorias\n",
    "arr4 = np.zeros([random.randint(1, imagen_size), random.randint(1, imagen_size), 3], dtype=np.uint8)\n",
    "\n",
    "for i in arr4:\n",
    "    arr4[::, ::random.randint(1, imagen_size)] = [random.randint(0, 255), random.randint(0, 1000), random.randint(0, 255)]\n",
    "\n",
    "img4 = Image.fromarray(arr4)\n",
    "dibujar_imagen = ImageDraw.Draw(img4)\n",
    "img4.show()"
   ]
  },
  {
   "cell_type": "code",
   "execution_count": 3,
   "id": "110730b3",
   "metadata": {},
   "outputs": [
    {
     "ename": "NameError",
     "evalue": "name 'arr2' is not defined",
     "output_type": "error",
     "traceback": [
      "\u001b[1;31m---------------------------------------------------------------------------\u001b[0m",
      "\u001b[1;31mNameError\u001b[0m                                 Traceback (most recent call last)",
      "\u001b[1;32m~\\AppData\\Local\\Temp\\ipykernel_21760\\2983637920.py\u001b[0m in \u001b[0;36m<module>\u001b[1;34m\u001b[0m\n\u001b[0;32m      1\u001b[0m \u001b[1;31m## Generamos una obra de arte nueva utilizando dos anteriores\u001b[0m\u001b[1;33m\u001b[0m\u001b[1;33m\u001b[0m\u001b[0m\n\u001b[1;32m----> 2\u001b[1;33m \u001b[0marr5\u001b[0m \u001b[1;33m=\u001b[0m \u001b[0marr2\u001b[0m \u001b[1;33m+\u001b[0m \u001b[0marr3\u001b[0m\u001b[1;33m\u001b[0m\u001b[1;33m\u001b[0m\u001b[0m\n\u001b[0m\u001b[0;32m      3\u001b[0m \u001b[1;33m\u001b[0m\u001b[0m\n\u001b[0;32m      4\u001b[0m \u001b[1;32mfor\u001b[0m \u001b[0mi\u001b[0m \u001b[1;32min\u001b[0m \u001b[0marr5\u001b[0m\u001b[1;33m:\u001b[0m\u001b[1;33m\u001b[0m\u001b[1;33m\u001b[0m\u001b[0m\n\u001b[0;32m      5\u001b[0m     \u001b[0marr5\u001b[0m\u001b[1;33m[\u001b[0m\u001b[1;33m:\u001b[0m\u001b[1;33m:\u001b[0m\u001b[1;33m,\u001b[0m \u001b[1;33m:\u001b[0m\u001b[1;33m:\u001b[0m\u001b[0mrandom\u001b[0m\u001b[1;33m.\u001b[0m\u001b[0mrandint\u001b[0m\u001b[1;33m(\u001b[0m\u001b[1;36m1\u001b[0m\u001b[1;33m,\u001b[0m \u001b[0mimagen_size\u001b[0m\u001b[1;33m)\u001b[0m\u001b[1;33m]\u001b[0m \u001b[1;33m=\u001b[0m \u001b[1;33m[\u001b[0m\u001b[0mrandom\u001b[0m\u001b[1;33m.\u001b[0m\u001b[0mrandint\u001b[0m\u001b[1;33m(\u001b[0m\u001b[1;36m0\u001b[0m\u001b[1;33m,\u001b[0m \u001b[1;36m255\u001b[0m\u001b[1;33m)\u001b[0m\u001b[1;33m,\u001b[0m \u001b[0mrandom\u001b[0m\u001b[1;33m.\u001b[0m\u001b[0mrandint\u001b[0m\u001b[1;33m(\u001b[0m\u001b[1;36m0\u001b[0m\u001b[1;33m,\u001b[0m \u001b[1;36m255\u001b[0m\u001b[1;33m)\u001b[0m\u001b[1;33m,\u001b[0m \u001b[0mrandom\u001b[0m\u001b[1;33m.\u001b[0m\u001b[0mrandint\u001b[0m\u001b[1;33m(\u001b[0m\u001b[1;36m0\u001b[0m\u001b[1;33m,\u001b[0m \u001b[1;36m255\u001b[0m\u001b[1;33m)\u001b[0m\u001b[1;33m]\u001b[0m\u001b[1;33m\u001b[0m\u001b[1;33m\u001b[0m\u001b[0m\n",
      "\u001b[1;31mNameError\u001b[0m: name 'arr2' is not defined"
     ]
    }
   ],
   "source": [
    "## Generamos una obra de arte nueva utilizando dos anteriores\n",
    "arr5 = arr2 + arr3\n",
    "\n",
    "for i in arr5:\n",
    "    arr5[::, ::random.randint(1, imagen_size)] = [random.randint(0, 255), random.randint(0, 255), random.randint(0, 255)]\n",
    "\n",
    "img5 = Image.fromarray(arr5)\n",
    "dibujar_imagen = ImageDraw.Draw(img5)\n",
    "img5.show()"
   ]
  },
  {
   "cell_type": "code",
   "execution_count": null,
   "id": "fb1deb61",
   "metadata": {},
   "outputs": [],
   "source": []
  }
 ],
 "metadata": {
  "kernelspec": {
   "display_name": "Python 3 (ipykernel)",
   "language": "python",
   "name": "python3"
  },
  "language_info": {
   "codemirror_mode": {
    "name": "ipython",
    "version": 3
   },
   "file_extension": ".py",
   "mimetype": "text/x-python",
   "name": "python",
   "nbconvert_exporter": "python",
   "pygments_lexer": "ipython3",
   "version": "3.9.13"
  }
 },
 "nbformat": 4,
 "nbformat_minor": 5
}
